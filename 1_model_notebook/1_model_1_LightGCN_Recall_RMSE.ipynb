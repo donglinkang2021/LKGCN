{
  "cells": [
    {
      "cell_type": "markdown",
      "metadata": {
        "id": "Xjz3nsfQrBTl"
      },
      "source": [
        "# LightGCN"
      ]
    },
    {
      "cell_type": "code",
      "execution_count": 1,
      "metadata": {
        "id": "fBnce3Bgp1UU"
      },
      "outputs": [],
      "source": [
        "import torch\n",
        "import torch.nn as nn "
      ]
    },
    {
      "cell_type": "markdown",
      "metadata": {
        "id": "pg17Ivmiph4b"
      },
      "source": [
        "## Data"
      ]
    },
    {
      "cell_type": "code",
      "execution_count": 2,
      "metadata": {
        "id": "PX3MflWSph4b"
      },
      "outputs": [],
      "source": [
        "from gcn.data import read_data_ml100k, split_data_ml100k, load_data_ml100k\n",
        "ratings_df, num_users, num_items = read_data_ml100k(\"./data/ml-latest-small\")\n",
        "train_data, test_data = split_data_ml100k(ratings_df, num_users, 'seq-aware', test_ratio=0.1)\n",
        "_, _, _, train_candidates = load_data_ml100k(\n",
        "    train_data, num_users, num_items, feedback=\"implicit\"\n",
        ") # train_candidates is a dict of {user: [items]}\n",
        "users_train, items_train, ratings_train, _ = load_data_ml100k(\n",
        "    train_data, num_users, num_items, feedback=\"explicit\"\n",
        ") # train_candidates is a dict of {user: [items]}\n",
        "_, _, _, test_candidates = load_data_ml100k(\n",
        "    test_data, num_users, num_items, feedback=\"implicit\"\n",
        ") # train_candidates is a dict of {user: [items]}\n",
        "users_test, items_test, ratings_test, _ = load_data_ml100k(\n",
        "    test_data, num_users, num_items, feedback=\"explicit\"\n",
        ") # test_candidates is a dict of {user: [items]}"
      ]
    },
    {
      "cell_type": "code",
      "execution_count": 3,
      "metadata": {
        "colab": {
          "base_uri": "https://localhost:8080/"
        },
        "id": "g8NECqGEph4c",
        "outputId": "6d0ee50f-3702-48e2-dd5c-ccfdb98ff51d"
      },
      "outputs": [
        {
          "data": {
            "text/plain": [
              "100226"
            ]
          },
          "execution_count": 3,
          "metadata": {},
          "output_type": "execute_result"
        }
      ],
      "source": [
        "len(train_data)"
      ]
    },
    {
      "cell_type": "code",
      "execution_count": 4,
      "metadata": {
        "colab": {
          "base_uri": "https://localhost:8080/"
        },
        "id": "4p7DMA9Sph4c",
        "outputId": "871e6fc7-4f26-450e-f5b3-098dd511864d"
      },
      "outputs": [
        {
          "data": {
            "text/plain": [
              "610"
            ]
          },
          "execution_count": 4,
          "metadata": {},
          "output_type": "execute_result"
        }
      ],
      "source": [
        "len(test_data)"
      ]
    },
    {
      "cell_type": "code",
      "execution_count": 5,
      "metadata": {},
      "outputs": [
        {
          "name": "stderr",
          "output_type": "stream",
          "text": [
            "/tmp/ipykernel_43780/2863010693.py:7: UserWarning: torch.sparse.SparseTensor(indices, values, shape, *, device=) is deprecated.  Please use torch.sparse_coo_tensor(indices, values, shape, dtype=, device=). (Triggered internally at ../torch/csrc/utils/tensor_new.cpp:605.)\n",
            "  Graph = torch.sparse.IntTensor(\n"
          ]
        }
      ],
      "source": [
        "user_dim = torch.LongTensor(users_train)\n",
        "item_dim = torch.LongTensor(items_train)\n",
        "first_sub = torch.stack([user_dim, item_dim + num_users])\n",
        "second_sub = torch.stack([item_dim + num_users, user_dim])\n",
        "index = torch.cat([first_sub, second_sub], dim=1)\n",
        "data = torch.ones(index.size(-1)).int()\n",
        "Graph = torch.sparse.IntTensor(\n",
        "    index, data,\n",
        "    torch.Size([num_users+num_items, num_users+num_items])\n",
        ")\n",
        "dense = Graph.to_dense()\n",
        "\"\"\"\n",
        "A =\n",
        "    |I,   R|\n",
        "    |R^T, I|\n",
        "\"\"\"\n",
        "D = torch.sum(dense, dim=1).float()\n",
        "D[D==0.] = 1. # avoid dividing by zero\n",
        "D_sqrt = torch.sqrt(D).unsqueeze(dim=0)\n",
        "dense = dense/D_sqrt\n",
        "dense = dense/D_sqrt.t()\n",
        "\"\"\"\n",
        "A = D^{-1/2} @ A @ D^{-1/2}\n",
        "\"\"\"\n",
        "index = dense.nonzero()\n",
        "data  = dense[dense >= 1e-9]\n",
        "assert len(index) == len(data)\n",
        "Graph = torch.sparse.FloatTensor(\n",
        "    index.t(), data,\n",
        "    torch.Size([num_users+num_items, num_users+num_items])\n",
        ") # Graph is a symmetric matrix now"
      ]
    },
    {
      "cell_type": "code",
      "execution_count": 6,
      "metadata": {
        "id": "uELUqBSHph4c"
      },
      "outputs": [],
      "source": [
        "class ML100KPoint(torch.utils.data.Dataset):\n",
        "    def __init__(self, users, items, ratings):\n",
        "        assert len(users) == len(items)\n",
        "        self.users = users\n",
        "        self.items = items\n",
        "        self.ratings = ratings\n",
        "\n",
        "    def __getitem__(self, index):\n",
        "        return (self.users[index], self.items[index], self.ratings[index])\n",
        "\n",
        "    def __len__(self):\n",
        "        return len(self.users)"
      ]
    },
    {
      "cell_type": "code",
      "execution_count": 7,
      "metadata": {
        "id": "nrVdjKGkph4c"
      },
      "outputs": [],
      "source": [
        "batch_size = 1024\n",
        "trainset = ML100KPoint(users_train, items_train, ratings_train)\n",
        "train_loader = torch.utils.data.DataLoader(trainset, batch_size=batch_size, shuffle=True)"
      ]
    },
    {
      "cell_type": "code",
      "execution_count": 8,
      "metadata": {
        "colab": {
          "base_uri": "https://localhost:8080/"
        },
        "id": "-fv0ZY3Eph4c",
        "outputId": "559055d8-7804-48b3-9267-08fc53304ad2"
      },
      "outputs": [
        {
          "data": {
            "text/plain": [
              "98"
            ]
          },
          "execution_count": 8,
          "metadata": {},
          "output_type": "execute_result"
        }
      ],
      "source": [
        "len(train_loader)"
      ]
    },
    {
      "cell_type": "markdown",
      "metadata": {
        "id": "bTjCGDL-ph4d"
      },
      "source": [
        "## Model Config"
      ]
    },
    {
      "cell_type": "code",
      "execution_count": 9,
      "metadata": {
        "id": "G1s6mDsoph4d"
      },
      "outputs": [
        {
          "name": "stdout",
          "output_type": "stream",
          "text": [
            "device: cuda, n_factors: 10, learning_rate: 0.01, weight_decay: 1e-05\n"
          ]
        }
      ],
      "source": [
        "from gcn.models import LightGCN\n",
        "device = \"cuda\" if torch.cuda.is_available() else \"cpu\"\n",
        "n_factors = 10\n",
        "model = LightGCN(num_users, num_items, n_factors, Graph.to(device))\n",
        "model.to(device)\n",
        "learning_rate, weight_decay = 0.01, 1e-5\n",
        "optimizer = torch.optim.Adam(model.parameters(), lr = learning_rate, weight_decay=weight_decay)\n",
        "loss_fn = nn.MSELoss()\n",
        "print(f\"device: {device}, n_factors: {n_factors}, learning_rate: {learning_rate}, weight_decay: {weight_decay}\")"
      ]
    },
    {
      "cell_type": "markdown",
      "metadata": {
        "id": "R_1GPTviph4d"
      },
      "source": [
        "## Train"
      ]
    },
    {
      "cell_type": "code",
      "execution_count": 10,
      "metadata": {
        "colab": {
          "base_uri": "https://localhost:8080/"
        },
        "id": "xE8TJ6Kmph4d",
        "outputId": "852e07b6-090d-4e62-895e-4d646538b70a"
      },
      "outputs": [
        {
          "data": {
            "image/png": "[encoded data removed]",
            "text/plain": [
              "<Figure size 640x480 with 1 Axes>"
            ]
          },
          "metadata": {},
          "output_type": "display_data"
        },
        {
          "name": "stdout",
          "output_type": "stream",
          "text": [
            "LightGCN Recall@10: 0.0049 RMSE: 1.5621 at epoch 19\n"
          ]
        }
      ],
      "source": [
        "from gcn.train import evaluate_ranking, evaluate_rating\n",
        "from gcn.visualize import Animator\n",
        "ani = Animator()\n",
        "num_epochs = 20\n",
        "topk = 10\n",
        "train_epoch_perc = []\n",
        "train_loss = []\n",
        "epoch_list = []\n",
        "rmse_list = []\n",
        "recall_list = []\n",
        "\n",
        "with torch.no_grad():\n",
        "    recall = evaluate_ranking(\n",
        "        model,\n",
        "        test_candidates,\n",
        "        train_candidates,\n",
        "        num_users,\n",
        "        num_items,\n",
        "        top_k = topk\n",
        "    )\n",
        "    recall_list.append(recall)\n",
        "    rmse = evaluate_rating(\n",
        "        model,\n",
        "        users_test, \n",
        "        items_test, \n",
        "        ratings_test\n",
        "    )\n",
        "    rmse_list.append(rmse)\n",
        "    epoch_list.append(0)\n",
        "\n",
        "for epoch in range(num_epochs):\n",
        "    for batch, values in enumerate(train_loader):\n",
        "        users, items, ratings = values[0].to(device), values[1].to(device), values[2].to(device)\n",
        "        # Forward pass\n",
        "        scores = model(users, items)\n",
        "        loss = loss_fn(scores, ratings.float())\n",
        "        # Backpropagation\n",
        "        optimizer.zero_grad()\n",
        "        loss.backward()\n",
        "        optimizer.step()\n",
        "\n",
        "        # if batch % 64 == 0:\n",
        "        train_epoch_perc.append((batch+1)/ len(train_loader) + epoch)\n",
        "        train_loss.append(loss.item())\n",
        "        print(f'step:{batch+1}/{len(train_loader)} epoch:{epoch}/{num_epochs} loss:{train_loss[-1]}')\n",
        "\n",
        "\n",
        "    with torch.no_grad():\n",
        "        recall = evaluate_ranking(\n",
        "            model,\n",
        "            test_candidates,\n",
        "            train_candidates,\n",
        "            num_users,\n",
        "            num_items,\n",
        "            top_k = topk\n",
        "        )\n",
        "        recall_list.append(recall)\n",
        "        rmse = evaluate_rating(\n",
        "            model,\n",
        "            users_test, \n",
        "            items_test, \n",
        "            ratings_test\n",
        "        )\n",
        "        rmse_list.append(rmse)\n",
        "        epoch_list.append(epoch+1)\n",
        "\n",
        "\n",
        "    ani.clear()\n",
        "    ani.ax.plot(train_epoch_perc, train_loss, color='b', label='mse loss')\n",
        "    ani.ax.plot(epoch_list, recall_list, color='r', label='recall')\n",
        "    ani.ax.plot(epoch_list, rmse_list, color='g', label='rmse')\n",
        "    ani.ax.set_xlabel('epoch')\n",
        "    ani.ax.legend()\n",
        "    ani.ax.set_title(f'LightGCN Recall@{topk}: {recall_list[-1]:.4f} RMSE: {rmse_list[-1]:.4f} at epoch {epoch}')\n",
        "    ani.render()\n",
        "\n",
        "    print(f'LightGCN Recall@{topk}: {recall_list[-1]:.4f} RMSE: {rmse_list[-1]:.4f} at epoch {epoch}')\n",
        "\n",
        "ani.close()"
      ]
    },
    {
      "cell_type": "code",
      "execution_count": 11,
      "metadata": {
        "colab": {
          "base_uri": "https://localhost:8080/",
          "height": 472
        },
        "id": "__lyVakozqPx",
        "outputId": "2e5b33db-f8b7-4962-a629-bbc7b57d7094"
      },
      "outputs": [
        {
          "data": {
            "image/png": "[encoded data removed]",
            "text/plain": [
              "<Figure size 640x480 with 1 Axes>"
            ]
          },
          "metadata": {},
          "output_type": "display_data"
        }
      ],
      "source": [
        "import matplotlib.pyplot as plt\n",
        "plt.plot(train_epoch_perc, train_loss, color='b', label='mse loss')\n",
        "plt.plot(epoch_list, recall_list, color='r', label='recall')\n",
        "plt.plot(epoch_list, rmse_list, color='g', label='rmse')\n",
        "plt.xlabel(\"epoch\")\n",
        "plt.legend()\n",
        "plt.title(f'LightGCN Recall@{topk}: {recall_list[-1]:.4f} RMSE: {rmse_list[-1]:.4f} at epoch {epoch}')\n",
        "plt.show()"
      ]
    },
    {
      "cell_type": "code",
      "execution_count": 12,
      "metadata": {},
      "outputs": [
        {
          "data": {
            "text/plain": [
              "[0.0,\n",
              " 0.0,\n",
              " 0.0,\n",
              " 0.0,\n",
              " 0.001639344262295082,\n",
              " 0.001639344262295082,\n",
              " 0.001639344262295082,\n",
              " 0.001639344262295082,\n",
              " 0.001639344262295082,\n",
              " 0.001639344262295082,\n",
              " 0.001639344262295082,\n",
              " 0.001639344262295082,\n",
              " 0.001639344262295082,\n",
              " 0.001639344262295082,\n",
              " 0.001639344262295082,\n",
              " 0.001639344262295082,\n",
              " 0.003278688524590164,\n",
              " 0.004918032786885246,\n",
              " 0.004918032786885246,\n",
              " 0.004918032786885246,\n",
              " 0.004918032786885246]"
            ]
          },
          "execution_count": 12,
          "metadata": {},
          "output_type": "execute_result"
        }
      ],
      "source": [
        "recall_list"
      ]
    },
    {
      "cell_type": "code",
      "execution_count": 13,
      "metadata": {},
      "outputs": [
        {
          "data": {
            "text/plain": [
              "[3.7455985624060464,\n",
              " 2.4628115345585497,\n",
              " 2.2617780977411623,\n",
              " 2.114560683055518,\n",
              " 1.9909633091487309,\n",
              " 1.8839334024252448,\n",
              " 1.8230268681231234,\n",
              " 1.7736981574258923,\n",
              " 1.7369467423904739,\n",
              " 1.7115478123843806,\n",
              " 1.6841537358566039,\n",
              " 1.6562676338840532,\n",
              " 1.6430320883535339,\n",
              " 1.6297308940724282,\n",
              " 1.6071210466146226,\n",
              " 1.600310864647907,\n",
              " 1.588541158040283,\n",
              " 1.5793279463140855,\n",
              " 1.5689874628902123,\n",
              " 1.5620478929657768,\n",
              " 1.5620552956028786]"
            ]
          },
          "execution_count": 13,
          "metadata": {},
          "output_type": "execute_result"
        }
      ],
      "source": [
        "rmse_list"
      ]
    },
    {
      "cell_type": "code",
      "execution_count": 14,
      "metadata": {},
      "outputs": [
        {
          "name": "stdout",
          "output_type": "stream",
          "text": [
            "LightGCN Max Recall@10: 0.0049 at epoch 17\n",
            "LightGCN Min RMSE: 1.5620 at epoch 19\n"
          ]
        }
      ],
      "source": [
        "# max(recall_list), min(rmse_list) \n",
        "print(f'LightGCN Max Recall@{topk}: {max(recall_list):.4f} at epoch {recall_list.index(max(recall_list))}')\n",
        "print(f'LightGCN Min RMSE: {min(rmse_list):.4f} at epoch {rmse_list.index(min(rmse_list))}')"
      ]
    }
  ],
  "metadata": {
    "accelerator": "GPU",
    "colab": {
      "gpuType": "T4",
      "provenance": []
    },
    "kernelspec": {
      "display_name": "Python 3",
      "name": "python3"
    },
    "language_info": {
      "codemirror_mode": {
        "name": "ipython",
        "version": 3
      },
      "file_extension": ".py",
      "mimetype": "text/x-python",
      "name": "python",
      "nbconvert_exporter": "python",
      "pygments_lexer": "ipython3",
      "version": "3.9.18"
    }
  },
  "nbformat": 4,
  "nbformat_minor": 0
}
