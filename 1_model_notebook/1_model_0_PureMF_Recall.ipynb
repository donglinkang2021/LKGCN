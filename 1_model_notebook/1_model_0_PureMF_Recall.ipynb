{
  "cells": [
    {
      "cell_type": "markdown",
      "metadata": {
        "id": "Xjz3nsfQrBTl"
      },
      "source": [
        "# Pure Matrix Factorization"
      ]
    },
    {
      "cell_type": "code",
      "execution_count": 1,
      "metadata": {
        "id": "fBnce3Bgp1UU"
      },
      "outputs": [],
      "source": [
        "import torch"
      ]
    },
    {
      "cell_type": "markdown",
      "metadata": {
        "id": "pg17Ivmiph4b"
      },
      "source": [
        "## Data"
      ]
    },
    {
      "cell_type": "code",
      "execution_count": 2,
      "metadata": {
        "id": "PX3MflWSph4b"
      },
      "outputs": [],
      "source": [
        "from gcn.data import read_data_ml100k, split_data_ml100k, load_data_ml100k\n",
        "ratings_df, num_users, num_items = read_data_ml100k(\"./data/ml-latest-small\")\n",
        "train_data, test_data = split_data_ml100k(ratings_df, num_users, 'seq-aware', test_ratio=0.1)\n",
        "users_train, items_train, ratings_train, train_candidates = load_data_ml100k(\n",
        "    train_data, num_users, num_items, feedback=\"implicit\"\n",
        ") # train_candidates is a dict of {user: [items]}\n",
        "users_test, items_test, ratings_test, test_candidates = load_data_ml100k(\n",
        "    test_data, num_users, num_items, feedback=\"implicit\"\n",
        ") # test_candidates is a dict of {user: [items]}"
      ]
    },
    {
      "cell_type": "code",
      "execution_count": 3,
      "metadata": {
        "colab": {
          "base_uri": "https://localhost:8080/",
          "height": 810
        },
        "id": "Af0mXb64ph4b",
        "outputId": "1949499a-1a11-4d1e-c62e-214b166f411f"
      },
      "outputs": [
        {
          "data": {
            "text/html": [
              "<div>\n",
              "<style scoped>\n",
              "    .dataframe tbody tr th:only-of-type {\n",
              "        vertical-align: middle;\n",
              "    }\n",
              "\n",
              "    .dataframe tbody tr th {\n",
              "        vertical-align: top;\n",
              "    }\n",
              "\n",
              "    .dataframe thead th {\n",
              "        text-align: right;\n",
              "    }\n",
              "</style>\n",
              "<table border=\"1\" class=\"dataframe\">\n",
              "  <thead>\n",
              "    <tr style=\"text-align: right;\">\n",
              "      <th></th>\n",
              "      <th>0</th>\n",
              "      <th>1</th>\n",
              "      <th>2</th>\n",
              "      <th>3</th>\n",
              "    </tr>\n",
              "  </thead>\n",
              "  <tbody>\n",
              "    <tr>\n",
              "      <th>0</th>\n",
              "      <td>1</td>\n",
              "      <td>633</td>\n",
              "      <td>4.0</td>\n",
              "      <td>964980499</td>\n",
              "    </tr>\n",
              "    <tr>\n",
              "      <th>1</th>\n",
              "      <td>1</td>\n",
              "      <td>911</td>\n",
              "      <td>5.0</td>\n",
              "      <td>964980499</td>\n",
              "    </tr>\n",
              "    <tr>\n",
              "      <th>2</th>\n",
              "      <td>1</td>\n",
              "      <td>1493</td>\n",
              "      <td>5.0</td>\n",
              "      <td>964980523</td>\n",
              "    </tr>\n",
              "    <tr>\n",
              "      <th>3</th>\n",
              "      <td>1</td>\n",
              "      <td>1979</td>\n",
              "      <td>4.0</td>\n",
              "      <td>964980523</td>\n",
              "    </tr>\n",
              "    <tr>\n",
              "      <th>4</th>\n",
              "      <td>1</td>\n",
              "      <td>2126</td>\n",
              "      <td>4.0</td>\n",
              "      <td>964980523</td>\n",
              "    </tr>\n",
              "  </tbody>\n",
              "</table>\n",
              "</div>"
            ],
            "text/plain": [
              "   0     1    2          3\n",
              "0  1   633  4.0  964980499\n",
              "1  1   911  5.0  964980499\n",
              "2  1  1493  5.0  964980523\n",
              "3  1  1979  4.0  964980523\n",
              "4  1  2126  4.0  964980523"
            ]
          },
          "execution_count": 3,
          "metadata": {},
          "output_type": "execute_result"
        }
      ],
      "source": [
        "train_data.head()"
      ]
    },
    {
      "cell_type": "code",
      "execution_count": 4,
      "metadata": {
        "colab": {
          "base_uri": "https://localhost:8080/"
        },
        "id": "g8NECqGEph4c",
        "outputId": "6d0ee50f-3702-48e2-dd5c-ccfdb98ff51d"
      },
      "outputs": [
        {
          "data": {
            "text/plain": [
              "100226"
            ]
          },
          "execution_count": 4,
          "metadata": {},
          "output_type": "execute_result"
        }
      ],
      "source": [
        "len(train_data)"
      ]
    },
    {
      "cell_type": "code",
      "execution_count": 5,
      "metadata": {
        "colab": {
          "base_uri": "https://localhost:8080/",
          "height": 206
        },
        "id": "Sfszf2dFph4c",
        "outputId": "31677268-2685-46dd-b55d-50e9c54d0b27"
      },
      "outputs": [
        {
          "data": {
            "text/html": [
              "<div>\n",
              "<style scoped>\n",
              "    .dataframe tbody tr th:only-of-type {\n",
              "        vertical-align: middle;\n",
              "    }\n",
              "\n",
              "    .dataframe tbody tr th {\n",
              "        vertical-align: top;\n",
              "    }\n",
              "\n",
              "    .dataframe thead th {\n",
              "        text-align: right;\n",
              "    }\n",
              "</style>\n",
              "<table border=\"1\" class=\"dataframe\">\n",
              "  <thead>\n",
              "    <tr style=\"text-align: right;\">\n",
              "      <th></th>\n",
              "      <th>0</th>\n",
              "      <th>1</th>\n",
              "      <th>2</th>\n",
              "      <th>3</th>\n",
              "    </tr>\n",
              "  </thead>\n",
              "  <tbody>\n",
              "    <tr>\n",
              "      <th>0</th>\n",
              "      <td>1</td>\n",
              "      <td>1874</td>\n",
              "      <td>4.0</td>\n",
              "      <td>965719662</td>\n",
              "    </tr>\n",
              "    <tr>\n",
              "      <th>1</th>\n",
              "      <td>2</td>\n",
              "      <td>7399</td>\n",
              "      <td>4.5</td>\n",
              "      <td>1445715340</td>\n",
              "    </tr>\n",
              "    <tr>\n",
              "      <th>2</th>\n",
              "      <td>3</td>\n",
              "      <td>1824</td>\n",
              "      <td>0.5</td>\n",
              "      <td>1306464293</td>\n",
              "    </tr>\n",
              "    <tr>\n",
              "      <th>3</th>\n",
              "      <td>4</td>\n",
              "      <td>3153</td>\n",
              "      <td>4.0</td>\n",
              "      <td>1007574542</td>\n",
              "    </tr>\n",
              "    <tr>\n",
              "      <th>4</th>\n",
              "      <td>5</td>\n",
              "      <td>212</td>\n",
              "      <td>5.0</td>\n",
              "      <td>847435337</td>\n",
              "    </tr>\n",
              "  </tbody>\n",
              "</table>\n",
              "</div>"
            ],
            "text/plain": [
              "   0     1    2           3\n",
              "0  1  1874  4.0   965719662\n",
              "1  2  7399  4.5  1445715340\n",
              "2  3  1824  0.5  1306464293\n",
              "3  4  3153  4.0  1007574542\n",
              "4  5   212  5.0   847435337"
            ]
          },
          "execution_count": 5,
          "metadata": {},
          "output_type": "execute_result"
        }
      ],
      "source": [
        "test_data.head()"
      ]
    },
    {
      "cell_type": "code",
      "execution_count": 6,
      "metadata": {
        "colab": {
          "base_uri": "https://localhost:8080/"
        },
        "id": "4p7DMA9Sph4c",
        "outputId": "871e6fc7-4f26-450e-f5b3-098dd511864d"
      },
      "outputs": [
        {
          "data": {
            "text/plain": [
              "610"
            ]
          },
          "execution_count": 6,
          "metadata": {},
          "output_type": "execute_result"
        }
      ],
      "source": [
        "len(test_data)"
      ]
    },
    {
      "cell_type": "code",
      "execution_count": 7,
      "metadata": {
        "id": "uELUqBSHph4c"
      },
      "outputs": [],
      "source": [
        "import random\n",
        "class PRDataset(torch.utils.data.Dataset):\n",
        "    def __init__(self, users, items, candidates, num_items):\n",
        "        self.users = users\n",
        "        self.items = items\n",
        "        self.cand = candidates\n",
        "        self.all = set([i for i in range(num_items)])\n",
        "\n",
        "    def __len__(self):\n",
        "        return len(self.users)\n",
        "\n",
        "    def __getitem__(self, idx):\n",
        "        neg_items = list(self.all - set(self.cand[int(self.users[idx])]))\n",
        "        indices = random.randint(0, len(neg_items) - 1)\n",
        "        return self.users[idx], self.items[idx], neg_items[indices]"
      ]
    },
    {
      "cell_type": "code",
      "execution_count": 8,
      "metadata": {
        "id": "nrVdjKGkph4c"
      },
      "outputs": [],
      "source": [
        "batch_size = 1024\n",
        "trainset = PRDataset(users_train, items_train, train_candidates, num_items)\n",
        "train_loader = torch.utils.data.DataLoader(trainset, batch_size=batch_size, shuffle=True)"
      ]
    },
    {
      "cell_type": "code",
      "execution_count": 9,
      "metadata": {
        "colab": {
          "base_uri": "https://localhost:8080/"
        },
        "id": "-fv0ZY3Eph4c",
        "outputId": "559055d8-7804-48b3-9267-08fc53304ad2"
      },
      "outputs": [
        {
          "data": {
            "text/plain": [
              "98"
            ]
          },
          "execution_count": 9,
          "metadata": {},
          "output_type": "execute_result"
        }
      ],
      "source": [
        "len(train_loader)"
      ]
    },
    {
      "cell_type": "markdown",
      "metadata": {
        "id": "bTjCGDL-ph4d"
      },
      "source": [
        "## Model Config"
      ]
    },
    {
      "cell_type": "code",
      "execution_count": 10,
      "metadata": {
        "id": "G1s6mDsoph4d"
      },
      "outputs": [
        {
          "name": "stdout",
          "output_type": "stream",
          "text": [
            "device: cuda, n_factors: 10, learning_rate: 0.01, weight_decay: 1e-05\n"
          ]
        }
      ],
      "source": [
        "from gcn.models import PureMF\n",
        "from gcn.loss import BPRLoss\n",
        "device = \"cuda\" if torch.cuda.is_available() else \"cpu\"\n",
        "n_factors = 10\n",
        "model = PureMF(num_users, num_items, n_factors)\n",
        "model.to(device)\n",
        "learning_rate, weight_decay = 0.01, 1e-5\n",
        "optimizer = torch.optim.Adam(model.parameters(), lr = learning_rate, weight_decay=weight_decay)\n",
        "scheduler = torch.optim.lr_scheduler.CosineAnnealingLR(optimizer, T_max=20)\n",
        "loss_fn = BPRLoss()\n",
        "print(f\"device: {device}, n_factors: {n_factors}, learning_rate: {learning_rate}, weight_decay: {weight_decay}\")"
      ]
    },
    {
      "cell_type": "markdown",
      "metadata": {
        "id": "R_1GPTviph4d"
      },
      "source": [
        "## Train"
      ]
    },
    {
      "cell_type": "code",
      "execution_count": 11,
      "metadata": {
        "colab": {
          "base_uri": "https://localhost:8080/"
        },
        "id": "xE8TJ6Kmph4d",
        "outputId": "852e07b6-090d-4e62-895e-4d646538b70a"
      },
      "outputs": [
        {
          "data": {
            "image/png": "[encoded data removed]",
            "text/plain": [
              "<Figure size 640x480 with 1 Axes>"
            ]
          },
          "metadata": {},
          "output_type": "display_data"
        },
        {
          "name": "stdout",
          "output_type": "stream",
          "text": [
            "PureMF Recall@10: 0.0672 at epoch 19\n"
          ]
        }
      ],
      "source": [
        "from gcn.train import evaluate_ranking\n",
        "from gcn.visualize import Animator\n",
        "ani = Animator()\n",
        "num_epochs = 20\n",
        "topk = 10\n",
        "train_epoch_perc = []\n",
        "train_loss = []\n",
        "epoch_list = []\n",
        "recall_list = []\n",
        "\n",
        "with torch.no_grad():\n",
        "    recall = evaluate_ranking(\n",
        "        model,\n",
        "        test_candidates,\n",
        "        train_candidates,\n",
        "        num_users,\n",
        "        num_items,\n",
        "        top_k = topk\n",
        "    )\n",
        "    recall_list.append(recall)\n",
        "    epoch_list.append(0)\n",
        "\n",
        "for epoch in range(num_epochs):\n",
        "    for batch, values in enumerate(train_loader):\n",
        "        input_data = []\n",
        "        for v in values:\n",
        "            input_data.append(v.to(device))\n",
        "\n",
        "        p_pos = model(input_data[0], input_data[1])\n",
        "        p_neg = model(input_data[0], input_data[-1])\n",
        "        loss = loss_fn(p_pos, p_neg)\n",
        "        # Backpropagation\n",
        "        optimizer.zero_grad()\n",
        "        loss.backward()\n",
        "        optimizer.step()\n",
        "\n",
        "        # if batch % 64 == 0:\n",
        "        train_epoch_perc.append((batch+1)/ len(train_loader) + epoch)\n",
        "        train_loss.append(loss.item())\n",
        "        print(f'step:{batch+1}/{len(train_loader)} epoch:{epoch}/{num_epochs} loss:{train_loss[-1]}')\n",
        "\n",
        "\n",
        "    with torch.no_grad():\n",
        "        recall = evaluate_ranking(\n",
        "            model,\n",
        "            test_candidates,\n",
        "            train_candidates,\n",
        "            num_users,\n",
        "            num_items,\n",
        "            top_k = topk\n",
        "        )\n",
        "        recall_list.append(recall)\n",
        "        epoch_list.append(epoch+1)\n",
        "\n",
        "\n",
        "    scheduler.step()\n",
        "\n",
        "    ani.clear()\n",
        "    ani.ax.plot(train_epoch_perc, train_loss, color='b', label='bpr loss')\n",
        "    ani.ax.plot(epoch_list, recall_list, color='r', label='recall')\n",
        "    ani.ax.set_xlabel('epoch')\n",
        "    ani.ax.legend()\n",
        "    ani.ax.set_title(f'PureMF Recall@{topk}: {recall_list[-1]:.4f} at epoch {epoch}')\n",
        "    ani.render()\n",
        "\n",
        "    print(f'PureMF Recall@{topk}: {recall_list[-1]:.4f} at epoch {epoch}')\n",
        "\n",
        "ani.close()"
      ]
    },
    {
      "cell_type": "code",
      "execution_count": 12,
      "metadata": {
        "colab": {
          "base_uri": "https://localhost:8080/",
          "height": 472
        },
        "id": "__lyVakozqPx",
        "outputId": "2e5b33db-f8b7-4962-a629-bbc7b57d7094"
      },
      "outputs": [
        {
          "data": {
            "image/png": "[encoded data removed]",
            "text/plain": [
              "<Figure size 640x480 with 1 Axes>"
            ]
          },
          "metadata": {},
          "output_type": "display_data"
        }
      ],
      "source": [
        "import matplotlib.pyplot as plt\n",
        "plt.plot(train_epoch_perc, train_loss, color='b', label='bpr loss')\n",
        "plt.plot(epoch_list, recall_list, color='r', label='recall')\n",
        "plt.xlabel(\"epoch\")\n",
        "plt.legend()\n",
        "plt.title(f'PureMF Recall@{topk}: {recall_list[-1]:.4f} at epoch {epoch}')\n",
        "plt.show()"
      ]
    },
    {
      "cell_type": "code",
      "execution_count": 13,
      "metadata": {
        "colab": {
          "base_uri": "https://localhost:8080/"
        },
        "id": "Ts4ZC04aph4d",
        "outputId": "ee1dc58f-f573-4433-d759-44bb19f2ca79"
      },
      "outputs": [
        {
          "data": {
            "text/plain": [
              "[0.0,\n",
              " 0.036065573770491806,\n",
              " 0.03442622950819672,\n",
              " 0.03278688524590164,\n",
              " 0.03934426229508197,\n",
              " 0.04590163934426229,\n",
              " 0.04590163934426229,\n",
              " 0.05081967213114754,\n",
              " 0.04918032786885246,\n",
              " 0.047540983606557376,\n",
              " 0.05081967213114754,\n",
              " 0.04918032786885246,\n",
              " 0.05573770491803279,\n",
              " 0.060655737704918035,\n",
              " 0.05737704918032787,\n",
              " 0.06393442622950819,\n",
              " 0.06557377049180328,\n",
              " 0.06885245901639345,\n",
              " 0.06721311475409836,\n",
              " 0.06721311475409836,\n",
              " 0.06721311475409836]"
            ]
          },
          "execution_count": 13,
          "metadata": {},
          "output_type": "execute_result"
        }
      ],
      "source": [
        "recall_list"
      ]
    },
    {
      "cell_type": "code",
      "execution_count": 14,
      "metadata": {},
      "outputs": [
        {
          "name": "stdout",
          "output_type": "stream",
          "text": [
            "PureMF Max Recall@10: 0.0689 at epoch 17\n"
          ]
        }
      ],
      "source": [
        "# max(recall_list), min(rmse_list) \n",
        "print(f'PureMF Max Recall@{topk}: {max(recall_list):.4f} at epoch {recall_list.index(max(recall_list))}')"
      ]
    },
    {
      "cell_type": "markdown",
      "metadata": {},
      "source": [
        "no scheduler\n",
        "- PureMF Max Recall@10: 0.0656 at epoch 17"
      ]
    }
  ],
  "metadata": {
    "accelerator": "GPU",
    "colab": {
      "gpuType": "T4",
      "provenance": []
    },
    "kernelspec": {
      "display_name": "Python 3",
      "name": "python3"
    },
    "language_info": {
      "codemirror_mode": {
        "name": "ipython",
        "version": 3
      },
      "file_extension": ".py",
      "mimetype": "text/x-python",
      "name": "python",
      "nbconvert_exporter": "python",
      "pygments_lexer": "ipython3",
      "version": "3.9.18"
    }
  },
  "nbformat": 4,
  "nbformat_minor": 0
}
