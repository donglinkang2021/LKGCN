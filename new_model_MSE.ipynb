{
  "cells": [
    {
      "cell_type": "markdown",
      "metadata": {
        "id": "Xjz3nsfQrBTl"
      },
      "source": [
        "# Test new model"
      ]
    },
    {
      "cell_type": "code",
      "execution_count": 1,
      "metadata": {
        "id": "fBnce3Bgp1UU"
      },
      "outputs": [],
      "source": [
        "import torch\n",
        "import torch.nn as nn \n",
        "from utils import get_mse_data, get_mse_train_loader"
      ]
    },
    {
      "cell_type": "markdown",
      "metadata": {
        "id": "pg17Ivmiph4b"
      },
      "source": [
        "## Data"
      ]
    },
    {
      "cell_type": "code",
      "execution_count": 2,
      "metadata": {
        "id": "PX3MflWSph4b"
      },
      "outputs": [],
      "source": [
        "num_users, num_items, users_train, items_train, ratings_train, users_test, items_test, ratings_test, train_candidates, test_candidates = get_mse_data()"
      ]
    },
    {
      "cell_type": "code",
      "execution_count": 3,
      "metadata": {
        "id": "nrVdjKGkph4c"
      },
      "outputs": [],
      "source": [
        "train_loader = get_mse_train_loader(users_train, items_train, ratings_train, shuffle=True)"
      ]
    },
    {
      "cell_type": "code",
      "execution_count": 4,
      "metadata": {
        "colab": {
          "base_uri": "https://localhost:8080/"
        },
        "id": "-fv0ZY3Eph4c",
        "outputId": "559055d8-7804-48b3-9267-08fc53304ad2"
      },
      "outputs": [
        {
          "data": {
            "text/plain": [
              "98"
            ]
          },
          "execution_count": 4,
          "metadata": {},
          "output_type": "execute_result"
        }
      ],
      "source": [
        "len(train_loader)"
      ]
    },
    {
      "cell_type": "markdown",
      "metadata": {
        "id": "bTjCGDL-ph4d"
      },
      "source": [
        "## Model Config"
      ]
    },
    {
      "cell_type": "code",
      "execution_count": 5,
      "metadata": {
        "id": "G1s6mDsoph4d"
      },
      "outputs": [
        {
          "name": "stderr",
          "output_type": "stream",
          "text": [
            "/root/linkdom/miniconda3/miniconda3/envs/LKGCN/lib/python3.9/site-packages/torch/nn/modules/lazy.py:180: UserWarning: Lazy modules are a new feature under heavy development so changes to the API or functionality can happen at any moment.\n",
            "  warnings.warn('Lazy modules are a new feature under heavy development '\n"
          ]
        },
        {
          "name": "stdout",
          "output_type": "stream",
          "text": [
            "device: cuda, n_factors: 64, learning_rate: 0.01, weight_decay: 1e-05\n"
          ]
        }
      ],
      "source": [
        "from gcn.transformerf import TransforMerF\n",
        "device = \"cuda\" if torch.cuda.is_available() else \"cpu\"\n",
        "n_factors = 64\n",
        "model = TransforMerF(num_users, num_items, n_factors)\n",
        "model.to(device)\n",
        "learning_rate, weight_decay = 0.01, 1e-5\n",
        "optimizer = torch.optim.Adam(model.parameters(), lr = learning_rate, weight_decay=weight_decay)\n",
        "loss_fn = nn.MSELoss()\n",
        "print(f\"device: {device}, n_factors: {n_factors}, learning_rate: {learning_rate}, weight_decay: {weight_decay}\")"
      ]
    },
    {
      "cell_type": "markdown",
      "metadata": {
        "id": "R_1GPTviph4d"
      },
      "source": [
        "## Train"
      ]
    },
    {
      "cell_type": "code",
      "execution_count": 6,
      "metadata": {
        "colab": {
          "base_uri": "https://localhost:8080/"
        },
        "id": "xE8TJ6Kmph4d",
        "outputId": "852e07b6-090d-4e62-895e-4d646538b70a"
      },
      "outputs": [
        {
          "data": {
            "image/png": "[encoded data removed]",
            "text/plain": [
              "<Figure size 640x480 with 1 Axes>"
            ]
          },
          "metadata": {},
          "output_type": "display_data"
        },
        {
          "name": "stdout",
          "output_type": "stream",
          "text": [
            "TransforMerF Recall@10: 0.0033 RMSE: 1.0854 at epoch 99\n"
          ]
        }
      ],
      "source": [
        "from gcn.train import evaluate_ranking, evaluate_rating\n",
        "from gcn.visualize import Animator\n",
        "ani = Animator()\n",
        "num_epochs = 100\n",
        "topk = 10\n",
        "train_epoch_perc = []\n",
        "train_loss = []\n",
        "epoch_list = []\n",
        "rmse_list = []\n",
        "recall_list = []\n",
        "\n",
        "with torch.no_grad():\n",
        "    recall = evaluate_ranking(\n",
        "        model,\n",
        "        test_candidates,\n",
        "        train_candidates,\n",
        "        num_users,\n",
        "        num_items,\n",
        "        top_k = topk\n",
        "    )\n",
        "    recall_list.append(recall)\n",
        "    rmse = evaluate_rating(\n",
        "        model,\n",
        "        users_test, \n",
        "        items_test, \n",
        "        ratings_test\n",
        "    )\n",
        "    rmse_list.append(rmse)\n",
        "    epoch_list.append(0)\n",
        "\n",
        "for epoch in range(num_epochs):\n",
        "    for batch, values in enumerate(train_loader):\n",
        "        users, items, ratings = values[0].to(device), values[1].to(device), values[2].to(device)\n",
        "        # Forward pass\n",
        "        scores = model(users, items)\n",
        "        loss = loss_fn(scores, ratings.float())\n",
        "        # Backpropagation\n",
        "        optimizer.zero_grad()\n",
        "        loss.backward()\n",
        "        optimizer.step()\n",
        "\n",
        "        # if batch % 64 == 0:\n",
        "        train_epoch_perc.append((batch+1)/ len(train_loader) + epoch)\n",
        "        train_loss.append(loss.item())\n",
        "        print(f'step:{batch+1}/{len(train_loader)} epoch:{epoch}/{num_epochs} loss:{train_loss[-1]}')\n",
        "\n",
        "\n",
        "    with torch.no_grad():\n",
        "        recall = evaluate_ranking(\n",
        "            model,\n",
        "            test_candidates,\n",
        "            train_candidates,\n",
        "            num_users,\n",
        "            num_items,\n",
        "            top_k = topk\n",
        "        )\n",
        "        recall_list.append(recall)\n",
        "        rmse = evaluate_rating(\n",
        "            model,\n",
        "            users_test, \n",
        "            items_test, \n",
        "            ratings_test\n",
        "        )\n",
        "        rmse_list.append(rmse)\n",
        "        epoch_list.append(epoch+1)\n",
        "\n",
        "\n",
        "    ani.clear()\n",
        "    ani.ax.plot(train_epoch_perc, train_loss, color='b', label='mse loss')\n",
        "    ani.ax.plot(epoch_list, recall_list, color='r', label='recall')\n",
        "    ani.ax.plot(epoch_list, rmse_list, color='g', label='rmse')\n",
        "    ani.ax.set_xlabel('epoch')\n",
        "    ani.ax.legend()\n",
        "    ani.ax.set_title(f'TransforMerF Recall@{topk}: {recall_list[-1]:.4f} RMSE: {rmse_list[-1]:.4f} at epoch {epoch}')\n",
        "    ani.render()\n",
        "\n",
        "    print(f'TransforMerF Recall@{topk}: {recall_list[-1]:.4f} RMSE: {rmse_list[-1]:.4f} at epoch {epoch}')\n",
        "\n",
        "ani.close()"
      ]
    },
    {
      "cell_type": "code",
      "execution_count": 7,
      "metadata": {
        "colab": {
          "base_uri": "https://localhost:8080/",
          "height": 472
        },
        "id": "__lyVakozqPx",
        "outputId": "2e5b33db-f8b7-4962-a629-bbc7b57d7094"
      },
      "outputs": [
        {
          "data": {
            "image/png": "[encoded data removed]",
            "text/plain": [
              "<Figure size 640x480 with 1 Axes>"
            ]
          },
          "metadata": {},
          "output_type": "display_data"
        }
      ],
      "source": [
        "import matplotlib.pyplot as plt\n",
        "plt.plot(train_epoch_perc, train_loss, color='b', label='mse loss')\n",
        "plt.plot(epoch_list, recall_list, color='r', label='recall')\n",
        "plt.plot(epoch_list, rmse_list, color='g', label='rmse')\n",
        "plt.xlabel(\"epoch\")\n",
        "plt.legend()\n",
        "plt.title(f'TransforMerF Recall@{topk}: {recall_list[-1]:.4f} RMSE: {rmse_list[-1]:.4f} at epoch {epoch}')\n",
        "plt.savefig(f'./images/TransforMerF Embed_dim: {n_factors} Recall@{topk}: {recall_list[-1]:.4f} RMSE: {rmse_list[-1]:.4f} at epoch {epoch}.png')\n",
        "plt.show()"
      ]
    },
    {
      "cell_type": "code",
      "execution_count": 8,
      "metadata": {},
      "outputs": [
        {
          "data": {
            "text/plain": [
              "[0.0,\n",
              " 0.001639344262295082,\n",
              " 0.0,\n",
              " 0.0,\n",
              " 0.003278688524590164,\n",
              " 0.0,\n",
              " 0.0,\n",
              " 0.0,\n",
              " 0.0,\n",
              " 0.0,\n",
              " 0.0,\n",
              " 0.0,\n",
              " 0.0,\n",
              " 0.0,\n",
              " 0.0,\n",
              " 0.0,\n",
              " 0.001639344262295082,\n",
              " 0.0,\n",
              " 0.0,\n",
              " 0.0,\n",
              " 0.0,\n",
              " 0.0,\n",
              " 0.0,\n",
              " 0.0,\n",
              " 0.0,\n",
              " 0.0,\n",
              " 0.0,\n",
              " 0.0,\n",
              " 0.0,\n",
              " 0.0,\n",
              " 0.0,\n",
              " 0.0,\n",
              " 0.0,\n",
              " 0.0,\n",
              " 0.0,\n",
              " 0.0,\n",
              " 0.0,\n",
              " 0.0,\n",
              " 0.0,\n",
              " 0.0,\n",
              " 0.0,\n",
              " 0.0,\n",
              " 0.001639344262295082,\n",
              " 0.0,\n",
              " 0.0,\n",
              " 0.0,\n",
              " 0.001639344262295082,\n",
              " 0.0,\n",
              " 0.0,\n",
              " 0.0,\n",
              " 0.0,\n",
              " 0.0,\n",
              " 0.0,\n",
              " 0.0,\n",
              " 0.0,\n",
              " 0.0,\n",
              " 0.0,\n",
              " 0.0,\n",
              " 0.0,\n",
              " 0.0,\n",
              " 0.0,\n",
              " 0.003278688524590164,\n",
              " 0.001639344262295082,\n",
              " 0.003278688524590164,\n",
              " 0.001639344262295082,\n",
              " 0.003278688524590164,\n",
              " 0.001639344262295082,\n",
              " 0.0,\n",
              " 0.0,\n",
              " 0.0,\n",
              " 0.0,\n",
              " 0.0,\n",
              " 0.0,\n",
              " 0.0,\n",
              " 0.001639344262295082,\n",
              " 0.001639344262295082,\n",
              " 0.001639344262295082,\n",
              " 0.0,\n",
              " 0.0,\n",
              " 0.0,\n",
              " 0.001639344262295082,\n",
              " 0.0,\n",
              " 0.003278688524590164,\n",
              " 0.001639344262295082,\n",
              " 0.004918032786885246,\n",
              " 0.001639344262295082,\n",
              " 0.0,\n",
              " 0.0,\n",
              " 0.003278688524590164,\n",
              " 0.0,\n",
              " 0.001639344262295082,\n",
              " 0.003278688524590164,\n",
              " 0.003278688524590164,\n",
              " 0.001639344262295082,\n",
              " 0.001639344262295082,\n",
              " 0.003278688524590164,\n",
              " 0.006557377049180328,\n",
              " 0.006557377049180328,\n",
              " 0.006557377049180328,\n",
              " 0.004918032786885246,\n",
              " 0.003278688524590164]"
            ]
          },
          "execution_count": 8,
          "metadata": {},
          "output_type": "execute_result"
        }
      ],
      "source": [
        "recall_list"
      ]
    },
    {
      "cell_type": "code",
      "execution_count": 9,
      "metadata": {},
      "outputs": [
        {
          "data": {
            "text/plain": [
              "[8.009626318969646,\n",
              " 1.3334997142852947,\n",
              " 1.1783728442566392,\n",
              " 1.140536004343964,\n",
              " 1.0982353339133197,\n",
              " 1.0860609354904769,\n",
              " 1.0754632572652871,\n",
              " 1.0523964758948459,\n",
              " 1.0427918016153144,\n",
              " 1.0589522989748932,\n",
              " 1.058412599724029,\n",
              " 1.055456996939819,\n",
              " 1.0596141331484343,\n",
              " 1.0485602521597712,\n",
              " 1.035960047319702,\n",
              " 1.0367868500271507,\n",
              " 1.0285345218485753,\n",
              " 1.0384472050587825,\n",
              " 1.0263814153873794,\n",
              " 1.041027705997413,\n",
              " 1.0714261463682795,\n",
              " 1.0482966889879055,\n",
              " 1.0335448768923166,\n",
              " 1.0426085918229828,\n",
              " 1.020749996961696,\n",
              " 1.0329324695896063,\n",
              " 1.0385881072399414,\n",
              " 1.0271537808186626,\n",
              " 1.031253930286663,\n",
              " 1.027377225961396,\n",
              " 1.0355698245170122,\n",
              " 1.019809144246651,\n",
              " 1.064418239196828,\n",
              " 1.0306926145749957,\n",
              " 1.0522603115882547,\n",
              " 1.0338341673382778,\n",
              " 1.0291749711930722,\n",
              " 1.0338049940174974,\n",
              " 1.021675865065553,\n",
              " 1.032433033542612,\n",
              " 1.045183894025215,\n",
              " 1.0171229539775393,\n",
              " 1.039898013011033,\n",
              " 1.0611988964739374,\n",
              " 1.0173138588328343,\n",
              " 1.0228861131527067,\n",
              " 1.0231219671597094,\n",
              " 1.013346243062939,\n",
              " 1.0267200389732638,\n",
              " 1.0173590894786781,\n",
              " 1.0402520619807196,\n",
              " 1.0285364921820335,\n",
              " 1.0359499785303188,\n",
              " 1.0208852261698678,\n",
              " 1.0451224731699467,\n",
              " 1.0307507317850613,\n",
              " 1.0338935492226786,\n",
              " 1.0386348790942985,\n",
              " 1.0240469130073964,\n",
              " 1.042028510507222,\n",
              " 1.0377154689549355,\n",
              " 1.025930266295258,\n",
              " 1.0348203293944862,\n",
              " 1.0277018919987202,\n",
              " 1.0033888021346493,\n",
              " 1.0134925169101574,\n",
              " 1.0145810557397947,\n",
              " 1.0198854729925513,\n",
              " 1.0284684555416317,\n",
              " 1.0167908066382738,\n",
              " 1.0316631760997812,\n",
              " 1.0307165557927722,\n",
              " 1.0393187701624382,\n",
              " 1.0288796782773637,\n",
              " 1.0336308017816538,\n",
              " 1.0356305457307984,\n",
              " 1.0400446215557126,\n",
              " 1.049688004507504,\n",
              " 1.0393152718233771,\n",
              " 1.0416757519643671,\n",
              " 1.0330461408053844,\n",
              " 1.0487304869372147,\n",
              " 1.046742786769827,\n",
              " 1.0297430761502275,\n",
              " 1.0373754357625355,\n",
              " 1.0364949908395416,\n",
              " 1.0535078445164239,\n",
              " 1.0492310842100083,\n",
              " 1.0440125118141659,\n",
              " 1.0580715003236114,\n",
              " 1.0452325376937415,\n",
              " 1.063226115123732,\n",
              " 1.060905718994547,\n",
              " 1.0460365695724085,\n",
              " 1.073687890402518,\n",
              " 1.0843832845673715,\n",
              " 1.0771001837843142,\n",
              " 1.064247825493091,\n",
              " 1.0779402754274519,\n",
              " 1.0782695618059406,\n",
              " 1.0854005652543413]"
            ]
          },
          "execution_count": 9,
          "metadata": {},
          "output_type": "execute_result"
        }
      ],
      "source": [
        "rmse_list"
      ]
    },
    {
      "cell_type": "code",
      "execution_count": 10,
      "metadata": {},
      "outputs": [
        {
          "name": "stdout",
          "output_type": "stream",
          "text": [
            "TransforMerF Max Recall@10: 0.0066 at epoch 96\n",
            "TransforMerF Min RMSE: 1.0034 at epoch 64\n"
          ]
        }
      ],
      "source": [
        "# max(recall_list), min(rmse_list) \n",
        "print(f'TransforMerF Max Recall@{topk}: {max(recall_list):.4f} at epoch {recall_list.index(max(recall_list))}')\n",
        "print(f'TransforMerF Min RMSE: {min(rmse_list):.4f} at epoch {rmse_list.index(min(rmse_list))}')"
      ]
    }
  ],
  "metadata": {
    "accelerator": "GPU",
    "colab": {
      "gpuType": "T4",
      "provenance": []
    },
    "kernelspec": {
      "display_name": "Python 3",
      "name": "python3"
    },
    "language_info": {
      "codemirror_mode": {
        "name": "ipython",
        "version": 3
      },
      "file_extension": ".py",
      "mimetype": "text/x-python",
      "name": "python",
      "nbconvert_exporter": "python",
      "pygments_lexer": "ipython3",
      "version": "3.9.18"
    }
  },
  "nbformat": 4,
  "nbformat_minor": 0
}
