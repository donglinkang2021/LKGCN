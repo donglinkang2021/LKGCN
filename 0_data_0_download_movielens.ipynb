{
 "cells": [
  {
   "cell_type": "markdown",
   "metadata": {},
   "source": [
    "# Movielen"
   ]
  },
  {
   "cell_type": "markdown",
   "metadata": {},
   "source": [
    "## ml-latest-small\n",
    "\n",
    "我们使用ml-latest-small数据集来进行demo"
   ]
  },
  {
   "cell_type": "code",
   "execution_count": 1,
   "metadata": {},
   "outputs": [
    {
     "name": "stdout",
     "output_type": "stream",
     "text": [
      "--2023-12-22 11:29:54--  https://files.grouplens.org/datasets/movielens/ml-latest-small.zip\n",
      "Resolving files.grouplens.org (files.grouplens.org)... 128.101.65.152\n",
      "Connecting to files.grouplens.org (files.grouplens.org)|128.101.65.152|:443... connected.\n",
      "HTTP request sent, awaiting response... 200 OK\n",
      "Length: 978202 (955K) [application/zip]\n",
      "Saving to: ‘ml-latest-small.zip’\n",
      "\n",
      "ml-latest-small.zip 100%[===================>] 955.28K   629KB/s    in 1.5s    \n",
      "\n",
      "2023-12-22 11:29:57 (629 KB/s) - ‘ml-latest-small.zip’ saved [978202/978202]\n",
      "\n",
      "Archive:  ml-latest-small.zip\n",
      "   creating: ./data/ml-latest-small/\n",
      "  inflating: ./data/ml-latest-small/links.csv  \n",
      "  inflating: ./data/ml-latest-small/tags.csv  \n",
      "  inflating: ./data/ml-latest-small/ratings.csv  \n",
      "  inflating: ./data/ml-latest-small/README.txt  \n",
      "  inflating: ./data/ml-latest-small/movies.csv  \n"
     ]
    }
   ],
   "source": [
    "!wget https://files.grouplens.org/datasets/movielens/ml-latest-small.zip\n",
    "!mkdir data\n",
    "!unzip ml-latest-small.zip -d ./data/\n",
    "!rm -rf ml-latest-small.zip"
   ]
  },
  {
   "cell_type": "markdown",
   "metadata": {},
   "source": [
    "## ml-latest\n",
    "\n",
    "使用ml-latest数据集来进一步的验证"
   ]
  },
  {
   "cell_type": "code",
   "execution_count": 2,
   "metadata": {},
   "outputs": [
    {
     "name": "stdout",
     "output_type": "stream",
     "text": [
      "--2023-12-22 11:29:58--  https://files.grouplens.org/datasets/movielens/ml-latest.zip\n",
      "Resolving files.grouplens.org (files.grouplens.org)... 128.101.65.152\n",
      "Connecting to files.grouplens.org (files.grouplens.org)|128.101.65.152|:443... connected.\n",
      "HTTP request sent, awaiting response... 200 OK\n",
      "Length: 350896731 (335M) [application/zip]\n",
      "Saving to: ‘ml-latest.zip’\n",
      "\n",
      "ml-latest.zip       100%[===================>] 334.64M  2.47MB/s    in 2m 22s  \n",
      "\n",
      "2023-12-22 11:32:21 (2.35 MB/s) - ‘ml-latest.zip’ saved [350896731/350896731]\n",
      "\n",
      "Archive:  ml-latest.zip\n",
      "   creating: ./data/ml-latest/\n",
      "  inflating: ./data/ml-latest/tags.csv  \n",
      "  inflating: ./data/ml-latest/links.csv  \n",
      "  inflating: ./data/ml-latest/README.txt  \n",
      "  inflating: ./data/ml-latest/ratings.csv  \n",
      "  inflating: ./data/ml-latest/genome-tags.csv  \n",
      "  inflating: ./data/ml-latest/genome-scores.csv  \n",
      "  inflating: ./data/ml-latest/movies.csv  \n"
     ]
    }
   ],
   "source": [
    "!wget https://files.grouplens.org/datasets/movielens/ml-latest.zip\n",
    "!unzip ml-latest.zip -d ./data/\n",
    "!rm -rf ml-latest.zip"
   ]
  }
 ],
 "metadata": {
  "kernelspec": {
   "display_name": "LKGCN",
   "language": "python",
   "name": "python3"
  },
  "language_info": {
   "codemirror_mode": {
    "name": "ipython",
    "version": 3
   },
   "file_extension": ".py",
   "mimetype": "text/x-python",
   "name": "python",
   "nbconvert_exporter": "python",
   "pygments_lexer": "ipython3",
   "version": "3.9.18"
  }
 },
 "nbformat": 4,
 "nbformat_minor": 2
}
