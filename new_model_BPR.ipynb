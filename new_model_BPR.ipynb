{
  "cells": [
    {
      "cell_type": "markdown",
      "metadata": {
        "id": "Xjz3nsfQrBTl"
      },
      "source": [
        "# Test new model"
      ]
    },
    {
      "cell_type": "code",
      "execution_count": 1,
      "metadata": {
        "id": "fBnce3Bgp1UU"
      },
      "outputs": [],
      "source": [
        "import torch\n",
        "from utils import get_bpr_data, get_bpr_train_loader"
      ]
    },
    {
      "cell_type": "markdown",
      "metadata": {
        "id": "pg17Ivmiph4b"
      },
      "source": [
        "## Data"
      ]
    },
    {
      "cell_type": "code",
      "execution_count": 2,
      "metadata": {
        "id": "PX3MflWSph4b"
      },
      "outputs": [],
      "source": [
        "num_users, num_items, users_train, items_train, train_candidates, test_candidates = get_bpr_data()"
      ]
    },
    {
      "cell_type": "code",
      "execution_count": 3,
      "metadata": {
        "id": "nrVdjKGkph4c"
      },
      "outputs": [],
      "source": [
        "train_loader = get_bpr_train_loader(users_train, items_train, train_candidates, num_items, shuffle=True)"
      ]
    },
    {
      "cell_type": "code",
      "execution_count": 4,
      "metadata": {
        "colab": {
          "base_uri": "https://localhost:8080/"
        },
        "id": "-fv0ZY3Eph4c",
        "outputId": "559055d8-7804-48b3-9267-08fc53304ad2"
      },
      "outputs": [
        {
          "data": {
            "text/plain": [
              "98"
            ]
          },
          "execution_count": 4,
          "metadata": {},
          "output_type": "execute_result"
        }
      ],
      "source": [
        "len(train_loader)"
      ]
    },
    {
      "cell_type": "markdown",
      "metadata": {
        "id": "bTjCGDL-ph4d"
      },
      "source": [
        "## Model Config"
      ]
    },
    {
      "cell_type": "code",
      "execution_count": 5,
      "metadata": {
        "id": "G1s6mDsoph4d"
      },
      "outputs": [
        {
          "name": "stdout",
          "output_type": "stream",
          "text": [
            "device: cuda, n_factors: 10, learning_rate: 0.01, weight_decay: 1e-05\n"
          ]
        }
      ],
      "source": [
        "from gcn.attention import DeePeamfii\n",
        "from gcn.loss import BPRLoss\n",
        "device = \"cuda\" if torch.cuda.is_available() else \"cpu\"\n",
        "n_factors = 10\n",
        "model = DeePeamfii(num_users, num_items, n_factors)\n",
        "model.to(device)\n",
        "learning_rate, weight_decay = 0.01, 1e-5\n",
        "optimizer = torch.optim.Adam(model.parameters(), lr = learning_rate, weight_decay=weight_decay)\n",
        "scheduler = torch.optim.lr_scheduler.CosineAnnealingLR(optimizer, T_max=20)\n",
        "loss_fn = BPRLoss()\n",
        "print(f\"device: {device}, n_factors: {n_factors}, learning_rate: {learning_rate}, weight_decay: {weight_decay}\")"
      ]
    },
    {
      "cell_type": "markdown",
      "metadata": {
        "id": "R_1GPTviph4d"
      },
      "source": [
        "## Train"
      ]
    },
    {
      "cell_type": "code",
      "execution_count": 6,
      "metadata": {
        "colab": {
          "base_uri": "https://localhost:8080/"
        },
        "id": "xE8TJ6Kmph4d",
        "outputId": "852e07b6-090d-4e62-895e-4d646538b70a"
      },
      "outputs": [
        {
          "data": {
            "image/png": "[encoded data removed]",
            "text/plain": [
              "<Figure size 640x480 with 1 Axes>"
            ]
          },
          "metadata": {},
          "output_type": "display_data"
        },
        {
          "name": "stdout",
          "output_type": "stream",
          "text": [
            "DeePeamfii Recall@10: 0.0033 at epoch 14\n",
            "step:1/98 epoch:15/20 loss:2.284084530401742e-07\n",
            "step:2/98 epoch:15/20 loss:3.6036738038092153e-06\n",
            "step:3/98 epoch:15/20 loss:1.6020357263002438e-09\n",
            "step:4/98 epoch:15/20 loss:6.309247169156151e-08\n",
            "step:5/98 epoch:15/20 loss:6.180729261728857e-09\n",
            "step:6/98 epoch:15/20 loss:5.635527031699894e-07\n",
            "step:7/98 epoch:15/20 loss:2.853037361916222e-09\n",
            "step:8/98 epoch:15/20 loss:2.2338748749461956e-05\n",
            "step:9/98 epoch:15/20 loss:1.4588586054742336e-05\n",
            "step:10/98 epoch:15/20 loss:3.7208791603404734e-10\n",
            "step:11/98 epoch:15/20 loss:6.216902193045826e-07\n",
            "step:12/98 epoch:15/20 loss:1.3291477785060124e-07\n",
            "step:13/98 epoch:15/20 loss:3.476932164403479e-08\n",
            "step:14/98 epoch:15/20 loss:2.759422557119251e-07\n",
            "step:15/98 epoch:15/20 loss:2.734102055867993e-09\n",
            "step:16/98 epoch:15/20 loss:5.8290602567012684e-08\n",
            "step:17/98 epoch:15/20 loss:7.161846582448561e-08\n",
            "step:18/98 epoch:15/20 loss:3.317067509556182e-09\n",
            "step:19/98 epoch:15/20 loss:0.010565334931015968\n",
            "step:20/98 epoch:15/20 loss:1.3729604688705876e-06\n",
            "step:21/98 epoch:15/20 loss:2.2933295262816955e-09\n",
            "step:22/98 epoch:15/20 loss:8.51448495042817e-11\n",
            "step:23/98 epoch:15/20 loss:8.346741964260218e-09\n",
            "step:24/98 epoch:15/20 loss:2.5394570890568957e-09\n",
            "step:25/98 epoch:15/20 loss:3.4465291731677894e-10\n"
          ]
        }
      ],
      "source": [
        "from gcn.train import evaluate_ranking\n",
        "from gcn.visualize import Animator\n",
        "ani = Animator()\n",
        "num_epochs = 20\n",
        "topk = 10\n",
        "train_epoch_perc = []\n",
        "train_loss = []\n",
        "epoch_list = []\n",
        "recall_list = []\n",
        "\n",
        "with torch.no_grad():\n",
        "    recall = evaluate_ranking(\n",
        "        model,\n",
        "        test_candidates,\n",
        "        train_candidates,\n",
        "        num_users,\n",
        "        num_items,\n",
        "        top_k = topk\n",
        "    )\n",
        "    recall_list.append(recall)\n",
        "    epoch_list.append(0)\n",
        "\n",
        "for epoch in range(num_epochs):\n",
        "    for batch, values in enumerate(train_loader):\n",
        "        input_data = []\n",
        "        for v in values:\n",
        "            input_data.append(v.to(device))\n",
        "\n",
        "        p_pos = model(input_data[0], input_data[1])\n",
        "        p_neg = model(input_data[0], input_data[-1])\n",
        "        loss = loss_fn(p_pos, p_neg)\n",
        "        # Backpropagation\n",
        "        optimizer.zero_grad()\n",
        "        loss.backward()\n",
        "        optimizer.step()\n",
        "\n",
        "        # if batch % 64 == 0:\n",
        "        train_epoch_perc.append((batch+1)/ len(train_loader) + epoch)\n",
        "        train_loss.append(loss.item())\n",
        "        print(f'step:{batch+1}/{len(train_loader)} epoch:{epoch}/{num_epochs} loss:{train_loss[-1]}')\n",
        "\n",
        "\n",
        "    with torch.no_grad():\n",
        "        recall = evaluate_ranking(\n",
        "            model,\n",
        "            test_candidates,\n",
        "            train_candidates,\n",
        "            num_users,\n",
        "            num_items,\n",
        "            top_k = topk\n",
        "        )\n",
        "        recall_list.append(recall)\n",
        "        epoch_list.append(epoch+1)\n",
        "\n",
        "\n",
        "    scheduler.step()\n",
        "\n",
        "    ani.clear()\n",
        "    ani.ax.plot(train_epoch_perc, train_loss, color='b', label='bpr loss')\n",
        "    ani.ax.plot(epoch_list, recall_list, color='r', label='recall')\n",
        "    ani.ax.set_xlabel('epoch')\n",
        "    ani.ax.legend()\n",
        "    ani.ax.set_title(f'DeePeamfii Recall@{topk}: {recall_list[-1]:.4f} at epoch {epoch}')\n",
        "    ani.render()\n",
        "\n",
        "    print(f'DeePeamfii Recall@{topk}: {recall_list[-1]:.4f} at epoch {epoch}')\n",
        "\n",
        "ani.close()"
      ]
    },
    {
      "cell_type": "code",
      "execution_count": null,
      "metadata": {
        "colab": {
          "base_uri": "https://localhost:8080/",
          "height": 472
        },
        "id": "__lyVakozqPx",
        "outputId": "2e5b33db-f8b7-4962-a629-bbc7b57d7094"
      },
      "outputs": [
        {
          "data": {
            "image/png": "[encoded data removed]",
            "text/plain": [
              "<Figure size 640x480 with 1 Axes>"
            ]
          },
          "metadata": {},
          "output_type": "display_data"
        }
      ],
      "source": [
        "import matplotlib.pyplot as plt\n",
        "plt.plot(train_epoch_perc, train_loss, color='b', label='bpr loss')\n",
        "plt.plot(epoch_list, recall_list, color='r', label='recall')\n",
        "plt.xlabel(\"epoch\")\n",
        "plt.legend()\n",
        "plt.title(f'DeePeamfii Recall@{topk}: {recall_list[-1]:.4f} at epoch {epoch}')\n",
        "plt.savefig(f'./images/DeePeamfii Recall@{topk}: {recall_list[-1]:.4f} at epoch {epoch}.png')\n",
        "plt.show()"
      ]
    },
    {
      "cell_type": "code",
      "execution_count": null,
      "metadata": {
        "colab": {
          "base_uri": "https://localhost:8080/"
        },
        "id": "Ts4ZC04aph4d",
        "outputId": "ee1dc58f-f573-4433-d759-44bb19f2ca79"
      },
      "outputs": [
        {
          "data": {
            "text/plain": [
              "[0.0,\n",
              " 0.040983606557377046,\n",
              " 0.040983606557377046,\n",
              " 0.04262295081967213,\n",
              " 0.03934426229508197,\n",
              " 0.036065573770491806,\n",
              " 0.03770491803278689,\n",
              " 0.03770491803278689,\n",
              " 0.03770491803278689,\n",
              " 0.03442622950819672,\n",
              " 0.03278688524590164,\n",
              " 0.029508196721311476,\n",
              " 0.019672131147540985,\n",
              " 0.021311475409836064,\n",
              " 0.021311475409836064,\n",
              " 0.019672131147540985,\n",
              " 0.021311475409836064,\n",
              " 0.021311475409836064,\n",
              " 0.021311475409836064,\n",
              " 0.021311475409836064,\n",
              " 0.021311475409836064]"
            ]
          },
          "execution_count": 8,
          "metadata": {},
          "output_type": "execute_result"
        }
      ],
      "source": [
        "recall_list"
      ]
    },
    {
      "cell_type": "code",
      "execution_count": null,
      "metadata": {},
      "outputs": [
        {
          "name": "stdout",
          "output_type": "stream",
          "text": [
            "Peamfii Max Recall@10: 0.0426 at epoch 3\n"
          ]
        }
      ],
      "source": [
        "# max(recall_list), min(rmse_list) \n",
        "print(f'DeePeamfii Max Recall@{topk}: {max(recall_list):.4f} at epoch {recall_list.index(max(recall_list))}')"
      ]
    }
  ],
  "metadata": {
    "accelerator": "GPU",
    "colab": {
      "gpuType": "T4",
      "provenance": []
    },
    "kernelspec": {
      "display_name": "Python 3",
      "name": "python3"
    },
    "language_info": {
      "codemirror_mode": {
        "name": "ipython",
        "version": 3
      },
      "file_extension": ".py",
      "mimetype": "text/x-python",
      "name": "python",
      "nbconvert_exporter": "python",
      "pygments_lexer": "ipython3",
      "version": "3.9.18"
    }
  },
  "nbformat": 4,
  "nbformat_minor": 0
}
