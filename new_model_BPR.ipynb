{
  "cells": [
    {
      "cell_type": "markdown",
      "metadata": {
        "id": "Xjz3nsfQrBTl"
      },
      "source": [
        "# Test new model"
      ]
    },
    {
      "cell_type": "code",
      "execution_count": 1,
      "metadata": {
        "id": "fBnce3Bgp1UU"
      },
      "outputs": [],
      "source": [
        "import torch\n",
        "from utils import get_bpr_data, get_bpr_train_loader"
      ]
    },
    {
      "cell_type": "markdown",
      "metadata": {
        "id": "pg17Ivmiph4b"
      },
      "source": [
        "## Data"
      ]
    },
    {
      "cell_type": "code",
      "execution_count": 2,
      "metadata": {
        "id": "PX3MflWSph4b"
      },
      "outputs": [],
      "source": [
        "num_users, num_items, users_train, items_train, train_candidates, test_candidates = get_bpr_data()"
      ]
    },
    {
      "cell_type": "code",
      "execution_count": 3,
      "metadata": {
        "id": "nrVdjKGkph4c"
      },
      "outputs": [],
      "source": [
        "train_loader = get_bpr_train_loader(users_train, items_train, train_candidates, num_items, shuffle=True)"
      ]
    },
    {
      "cell_type": "code",
      "execution_count": 4,
      "metadata": {
        "colab": {
          "base_uri": "https://localhost:8080/"
        },
        "id": "-fv0ZY3Eph4c",
        "outputId": "559055d8-7804-48b3-9267-08fc53304ad2"
      },
      "outputs": [
        {
          "data": {
            "text/plain": [
              "98"
            ]
          },
          "execution_count": 4,
          "metadata": {},
          "output_type": "execute_result"
        }
      ],
      "source": [
        "len(train_loader)"
      ]
    },
    {
      "cell_type": "markdown",
      "metadata": {
        "id": "bTjCGDL-ph4d"
      },
      "source": [
        "## Model Config"
      ]
    },
    {
      "cell_type": "code",
      "execution_count": 5,
      "metadata": {
        "id": "G1s6mDsoph4d"
      },
      "outputs": [
        {
          "name": "stderr",
          "output_type": "stream",
          "text": [
            "/root/linkdom/miniconda3/miniconda3/envs/LKGCN/lib/python3.9/site-packages/torch/nn/modules/lazy.py:180: UserWarning: Lazy modules are a new feature under heavy development so changes to the API or functionality can happen at any moment.\n",
            "  warnings.warn('Lazy modules are a new feature under heavy development '\n"
          ]
        },
        {
          "name": "stdout",
          "output_type": "stream",
          "text": [
            "device: cuda, n_factors: 64, learning_rate: 0.01, weight_decay: 1e-05\n"
          ]
        }
      ],
      "source": [
        "from gcn.transformerf import TransforMerF\n",
        "from gcn.loss import BPRLoss\n",
        "device = \"cuda\" if torch.cuda.is_available() else \"cpu\"\n",
        "n_factors = 64\n",
        "model = TransforMerF(num_users, num_items, n_factors)\n",
        "model.to(device)\n",
        "learning_rate, weight_decay = 0.01, 1e-5\n",
        "optimizer = torch.optim.Adam(model.parameters(), lr = learning_rate, weight_decay=weight_decay)\n",
        "scheduler = torch.optim.lr_scheduler.CosineAnnealingLR(optimizer, T_max=20)\n",
        "loss_fn = BPRLoss()\n",
        "print(f\"device: {device}, n_factors: {n_factors}, learning_rate: {learning_rate}, weight_decay: {weight_decay}\")"
      ]
    },
    {
      "cell_type": "markdown",
      "metadata": {
        "id": "R_1GPTviph4d"
      },
      "source": [
        "## Train"
      ]
    },
    {
      "cell_type": "code",
      "execution_count": 6,
      "metadata": {
        "colab": {
          "base_uri": "https://localhost:8080/"
        },
        "id": "xE8TJ6Kmph4d",
        "outputId": "852e07b6-090d-4e62-895e-4d646538b70a"
      },
      "outputs": [
        {
          "data": {
            "image/png": "[encoded data removed]",
            "text/plain": [
              "<Figure size 640x480 with 1 Axes>"
            ]
          },
          "metadata": {},
          "output_type": "display_data"
        },
        {
          "name": "stdout",
          "output_type": "stream",
          "text": [
            "TransforMerF Recall@10: 0.0082 at epoch 15\n",
            "step:1/98 epoch:16/20 loss:2.327575878928136e-22\n",
            "step:2/98 epoch:16/20 loss:5.001061080126188e-22\n",
            "step:3/98 epoch:16/20 loss:3.362535638158157e-22\n",
            "step:4/98 epoch:16/20 loss:2.908278984237648e-22\n",
            "step:5/98 epoch:16/20 loss:6.360117412912071e-21\n",
            "step:6/98 epoch:16/20 loss:1.1972699225849361e-21\n",
            "step:7/98 epoch:16/20 loss:6.909817704044771e-22\n",
            "step:8/98 epoch:16/20 loss:7.198003713607838e-21\n",
            "step:9/98 epoch:16/20 loss:3.3640445965412126e-21\n",
            "step:10/98 epoch:16/20 loss:1.2170260288775463e-21\n",
            "step:11/98 epoch:16/20 loss:3.709534724436982e-22\n",
            "step:12/98 epoch:16/20 loss:4.304864194453506e-22\n",
            "step:13/98 epoch:16/20 loss:1.2481065931851769e-21\n",
            "step:14/98 epoch:16/20 loss:4.308622958894703e-22\n",
            "step:15/98 epoch:16/20 loss:1.0346888454625065e-21\n",
            "step:16/98 epoch:16/20 loss:1.5969573947549328e-22\n",
            "step:17/98 epoch:16/20 loss:7.945186408768059e-22\n",
            "step:18/98 epoch:16/20 loss:1.1503613501523635e-21\n",
            "step:19/98 epoch:16/20 loss:9.077344938682854e-22\n",
            "step:20/98 epoch:16/20 loss:5.430776965482868e-22\n"
          ]
        }
      ],
      "source": [
        "from gcn.train import evaluate_ranking\n",
        "from gcn.visualize import Animator\n",
        "ani = Animator()\n",
        "num_epochs = 20\n",
        "topk = 10\n",
        "train_epoch_perc = []\n",
        "train_loss = []\n",
        "epoch_list = []\n",
        "recall_list = []\n",
        "\n",
        "with torch.no_grad():\n",
        "    recall = evaluate_ranking(\n",
        "        model,\n",
        "        test_candidates,\n",
        "        train_candidates,\n",
        "        num_users,\n",
        "        num_items,\n",
        "        top_k = topk\n",
        "    )\n",
        "    recall_list.append(recall)\n",
        "    epoch_list.append(0)\n",
        "\n",
        "for epoch in range(num_epochs):\n",
        "    for batch, values in enumerate(train_loader):\n",
        "        input_data = []\n",
        "        for v in values:\n",
        "            input_data.append(v.to(device))\n",
        "\n",
        "        p_pos = model(input_data[0], input_data[1])\n",
        "        p_neg = model(input_data[0], input_data[-1])\n",
        "        loss = loss_fn(p_pos, p_neg)\n",
        "        # Backpropagation\n",
        "        optimizer.zero_grad()\n",
        "        loss.backward()\n",
        "        optimizer.step()\n",
        "\n",
        "        # if batch % 64 == 0:\n",
        "        train_epoch_perc.append((batch+1)/ len(train_loader) + epoch)\n",
        "        train_loss.append(loss.item())\n",
        "        print(f'step:{batch+1}/{len(train_loader)} epoch:{epoch}/{num_epochs} loss:{train_loss[-1]}')\n",
        "\n",
        "\n",
        "    with torch.no_grad():\n",
        "        recall = evaluate_ranking(\n",
        "            model,\n",
        "            test_candidates,\n",
        "            train_candidates,\n",
        "            num_users,\n",
        "            num_items,\n",
        "            top_k = topk\n",
        "        )\n",
        "        recall_list.append(recall)\n",
        "        epoch_list.append(epoch+1)\n",
        "\n",
        "\n",
        "    scheduler.step()\n",
        "\n",
        "    ani.clear()\n",
        "    ani.ax.plot(train_epoch_perc, train_loss, color='b', label='bpr loss')\n",
        "    ani.ax.plot(epoch_list, recall_list, color='r', label='recall')\n",
        "    ani.ax.set_xlabel('epoch')\n",
        "    ani.ax.legend()\n",
        "    ani.ax.set_title(f'TransforMerF Recall@{topk}: {recall_list[-1]:.4f} at epoch {epoch}')\n",
        "    ani.render()\n",
        "\n",
        "    print(f'TransforMerF Recall@{topk}: {recall_list[-1]:.4f} at epoch {epoch}')\n",
        "\n",
        "ani.close()"
      ]
    },
    {
      "cell_type": "code",
      "execution_count": null,
      "metadata": {
        "colab": {
          "base_uri": "https://localhost:8080/",
          "height": 472
        },
        "id": "__lyVakozqPx",
        "outputId": "2e5b33db-f8b7-4962-a629-bbc7b57d7094"
      },
      "outputs": [
        {
          "data": {
            "image/png": "[encoded data removed]",
            "text/plain": [
              "<Figure size 640x480 with 1 Axes>"
            ]
          },
          "metadata": {},
          "output_type": "display_data"
        }
      ],
      "source": [
        "import matplotlib.pyplot as plt\n",
        "plt.plot(train_epoch_perc, train_loss, color='b', label='bpr loss')\n",
        "plt.plot(epoch_list, recall_list, color='r', label='recall')\n",
        "plt.xlabel(\"epoch\")\n",
        "plt.legend()\n",
        "plt.title(f'TransforMerF Recall@{topk}: {recall_list[-1]:.4f} at epoch {epoch}')\n",
        "plt.savefig(f'./images/TransforMerF Embed_dim: {n_factors} Recall@{topk}: {recall_list[-1]:.4f} at epoch {epoch}.png')\n",
        "plt.show()"
      ]
    },
    {
      "cell_type": "code",
      "execution_count": null,
      "metadata": {
        "colab": {
          "base_uri": "https://localhost:8080/"
        },
        "id": "Ts4ZC04aph4d",
        "outputId": "ee1dc58f-f573-4433-d759-44bb19f2ca79"
      },
      "outputs": [
        {
          "data": {
            "text/plain": [
              "[0.003278688524590164,\n",
              " 0.03114754098360656,\n",
              " 0.036065573770491806,\n",
              " 0.03934426229508197,\n",
              " 0.04262295081967213,\n",
              " 0.03770491803278689,\n",
              " 0.040983606557377046,\n",
              " 0.040983606557377046,\n",
              " 0.03934426229508197,\n",
              " 0.03770491803278689,\n",
              " 0.03934426229508197,\n",
              " 0.040983606557377046,\n",
              " 0.04262295081967213,\n",
              " 0.04262295081967213,\n",
              " 0.040983606557377046,\n",
              " 0.040983606557377046,\n",
              " 0.040983606557377046,\n",
              " 0.03934426229508197,\n",
              " 0.03934426229508197,\n",
              " 0.03934426229508197,\n",
              " 0.03934426229508197]"
            ]
          },
          "execution_count": 8,
          "metadata": {},
          "output_type": "execute_result"
        }
      ],
      "source": [
        "recall_list"
      ]
    },
    {
      "cell_type": "code",
      "execution_count": null,
      "metadata": {},
      "outputs": [
        {
          "name": "stdout",
          "output_type": "stream",
          "text": [
            "BiasAtMF Max Recall@10: 0.0426 at epoch 4\n"
          ]
        }
      ],
      "source": [
        "# max(recall_list), min(rmse_list) \n",
        "print(f'TransforMerF Max Recall@{topk}: {max(recall_list):.4f} at epoch {recall_list.index(max(recall_list))}')"
      ]
    }
  ],
  "metadata": {
    "accelerator": "GPU",
    "colab": {
      "gpuType": "T4",
      "provenance": []
    },
    "kernelspec": {
      "display_name": "Python 3",
      "name": "python3"
    },
    "language_info": {
      "codemirror_mode": {
        "name": "ipython",
        "version": 3
      },
      "file_extension": ".py",
      "mimetype": "text/x-python",
      "name": "python",
      "nbconvert_exporter": "python",
      "pygments_lexer": "ipython3",
      "version": "3.9.18"
    }
  },
  "nbformat": 4,
  "nbformat_minor": 0
}
